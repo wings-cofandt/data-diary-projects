{
  "cells": [
    {
      "cell_type": "code",
      "execution_count": 30,
      "metadata": {
        "id": "_uQYHFbQ3eP4"
      },
      "outputs": [],
      "source": [
        "import pandas as pd\n",
        "df=pd.read_csv('/content/drive/MyDrive/Datasets/fitness.csv')"
      ]
    },
    {
      "cell_type": "code",
      "source": [
        "df.keys()"
      ],
      "metadata": {
        "colab": {
          "base_uri": "https://localhost:8080/"
        },
        "id": "LXOsDgxXvInM",
        "outputId": "31203ea2-a1d5-4851-ceb7-fb293e0b3712"
      },
      "execution_count": 31,
      "outputs": [
        {
          "output_type": "execute_result",
          "data": {
            "text/plain": [
              "Index(['date', 'age', 'gender', 'height', 'weight', 'steps', 'hear_rate',\n",
              "       'calories', 'distance', 'steps_times_distance', 'activity'],\n",
              "      dtype='object')"
            ]
          },
          "metadata": {},
          "execution_count": 31
        }
      ]
    },
    {
      "cell_type": "code",
      "source": [
        "df.head()"
      ],
      "metadata": {
        "colab": {
          "base_uri": "https://localhost:8080/",
          "height": 206
        },
        "id": "P30wXokBvZ1i",
        "outputId": "4e42bd92-fb36-4e9f-fc9d-a61f61bba4f7"
      },
      "execution_count": 32,
      "outputs": [
        {
          "output_type": "execute_result",
          "data": {
            "text/plain": [
              "         date  age  gender  height  weight      steps  hear_rate   calories  \\\n",
              "0  2019-01-01   20       1     168    65.4  10.771429  78.531302   0.344533   \n",
              "1  2019-01-02   20       1     168    65.4  11.475325  78.453390   3.287625   \n",
              "2  2019-01-03   20       1     168    65.4  12.179221  78.540825   9.484000   \n",
              "3  2019-01-04   20       1     168    65.4  12.883117  78.628260  10.154556   \n",
              "4  2019-01-05   20       1     168    65.4  13.587013  78.715695  10.825111   \n",
              "\n",
              "   distance  steps_times_distance activity  \n",
              "0  0.008327              0.089692    Lying  \n",
              "1  0.008896              0.102088    Lying  \n",
              "2  0.009466              0.115287    Lying  \n",
              "3  0.010035              0.129286    Lying  \n",
              "4  0.010605              0.144088    Lying  "
            ],
            "text/html": [
              "\n",
              "  <div id=\"df-761cbfb1-3855-413c-b712-24e5634ac2eb\">\n",
              "    <div class=\"colab-df-container\">\n",
              "      <div>\n",
              "<style scoped>\n",
              "    .dataframe tbody tr th:only-of-type {\n",
              "        vertical-align: middle;\n",
              "    }\n",
              "\n",
              "    .dataframe tbody tr th {\n",
              "        vertical-align: top;\n",
              "    }\n",
              "\n",
              "    .dataframe thead th {\n",
              "        text-align: right;\n",
              "    }\n",
              "</style>\n",
              "<table border=\"1\" class=\"dataframe\">\n",
              "  <thead>\n",
              "    <tr style=\"text-align: right;\">\n",
              "      <th></th>\n",
              "      <th>date</th>\n",
              "      <th>age</th>\n",
              "      <th>gender</th>\n",
              "      <th>height</th>\n",
              "      <th>weight</th>\n",
              "      <th>steps</th>\n",
              "      <th>hear_rate</th>\n",
              "      <th>calories</th>\n",
              "      <th>distance</th>\n",
              "      <th>steps_times_distance</th>\n",
              "      <th>activity</th>\n",
              "    </tr>\n",
              "  </thead>\n",
              "  <tbody>\n",
              "    <tr>\n",
              "      <th>0</th>\n",
              "      <td>2019-01-01</td>\n",
              "      <td>20</td>\n",
              "      <td>1</td>\n",
              "      <td>168</td>\n",
              "      <td>65.4</td>\n",
              "      <td>10.771429</td>\n",
              "      <td>78.531302</td>\n",
              "      <td>0.344533</td>\n",
              "      <td>0.008327</td>\n",
              "      <td>0.089692</td>\n",
              "      <td>Lying</td>\n",
              "    </tr>\n",
              "    <tr>\n",
              "      <th>1</th>\n",
              "      <td>2019-01-02</td>\n",
              "      <td>20</td>\n",
              "      <td>1</td>\n",
              "      <td>168</td>\n",
              "      <td>65.4</td>\n",
              "      <td>11.475325</td>\n",
              "      <td>78.453390</td>\n",
              "      <td>3.287625</td>\n",
              "      <td>0.008896</td>\n",
              "      <td>0.102088</td>\n",
              "      <td>Lying</td>\n",
              "    </tr>\n",
              "    <tr>\n",
              "      <th>2</th>\n",
              "      <td>2019-01-03</td>\n",
              "      <td>20</td>\n",
              "      <td>1</td>\n",
              "      <td>168</td>\n",
              "      <td>65.4</td>\n",
              "      <td>12.179221</td>\n",
              "      <td>78.540825</td>\n",
              "      <td>9.484000</td>\n",
              "      <td>0.009466</td>\n",
              "      <td>0.115287</td>\n",
              "      <td>Lying</td>\n",
              "    </tr>\n",
              "    <tr>\n",
              "      <th>3</th>\n",
              "      <td>2019-01-04</td>\n",
              "      <td>20</td>\n",
              "      <td>1</td>\n",
              "      <td>168</td>\n",
              "      <td>65.4</td>\n",
              "      <td>12.883117</td>\n",
              "      <td>78.628260</td>\n",
              "      <td>10.154556</td>\n",
              "      <td>0.010035</td>\n",
              "      <td>0.129286</td>\n",
              "      <td>Lying</td>\n",
              "    </tr>\n",
              "    <tr>\n",
              "      <th>4</th>\n",
              "      <td>2019-01-05</td>\n",
              "      <td>20</td>\n",
              "      <td>1</td>\n",
              "      <td>168</td>\n",
              "      <td>65.4</td>\n",
              "      <td>13.587013</td>\n",
              "      <td>78.715695</td>\n",
              "      <td>10.825111</td>\n",
              "      <td>0.010605</td>\n",
              "      <td>0.144088</td>\n",
              "      <td>Lying</td>\n",
              "    </tr>\n",
              "  </tbody>\n",
              "</table>\n",
              "</div>\n",
              "      <button class=\"colab-df-convert\" onclick=\"convertToInteractive('df-761cbfb1-3855-413c-b712-24e5634ac2eb')\"\n",
              "              title=\"Convert this dataframe to an interactive table.\"\n",
              "              style=\"display:none;\">\n",
              "        \n",
              "  <svg xmlns=\"http://www.w3.org/2000/svg\" height=\"24px\"viewBox=\"0 0 24 24\"\n",
              "       width=\"24px\">\n",
              "    <path d=\"M0 0h24v24H0V0z\" fill=\"none\"/>\n",
              "    <path d=\"M18.56 5.44l.94 2.06.94-2.06 2.06-.94-2.06-.94-.94-2.06-.94 2.06-2.06.94zm-11 1L8.5 8.5l.94-2.06 2.06-.94-2.06-.94L8.5 2.5l-.94 2.06-2.06.94zm10 10l.94 2.06.94-2.06 2.06-.94-2.06-.94-.94-2.06-.94 2.06-2.06.94z\"/><path d=\"M17.41 7.96l-1.37-1.37c-.4-.4-.92-.59-1.43-.59-.52 0-1.04.2-1.43.59L10.3 9.45l-7.72 7.72c-.78.78-.78 2.05 0 2.83L4 21.41c.39.39.9.59 1.41.59.51 0 1.02-.2 1.41-.59l7.78-7.78 2.81-2.81c.8-.78.8-2.07 0-2.86zM5.41 20L4 18.59l7.72-7.72 1.47 1.35L5.41 20z\"/>\n",
              "  </svg>\n",
              "      </button>\n",
              "      \n",
              "  <style>\n",
              "    .colab-df-container {\n",
              "      display:flex;\n",
              "      flex-wrap:wrap;\n",
              "      gap: 12px;\n",
              "    }\n",
              "\n",
              "    .colab-df-convert {\n",
              "      background-color: #E8F0FE;\n",
              "      border: none;\n",
              "      border-radius: 50%;\n",
              "      cursor: pointer;\n",
              "      display: none;\n",
              "      fill: #1967D2;\n",
              "      height: 32px;\n",
              "      padding: 0 0 0 0;\n",
              "      width: 32px;\n",
              "    }\n",
              "\n",
              "    .colab-df-convert:hover {\n",
              "      background-color: #E2EBFA;\n",
              "      box-shadow: 0px 1px 2px rgba(60, 64, 67, 0.3), 0px 1px 3px 1px rgba(60, 64, 67, 0.15);\n",
              "      fill: #174EA6;\n",
              "    }\n",
              "\n",
              "    [theme=dark] .colab-df-convert {\n",
              "      background-color: #3B4455;\n",
              "      fill: #D2E3FC;\n",
              "    }\n",
              "\n",
              "    [theme=dark] .colab-df-convert:hover {\n",
              "      background-color: #434B5C;\n",
              "      box-shadow: 0px 1px 3px 1px rgba(0, 0, 0, 0.15);\n",
              "      filter: drop-shadow(0px 1px 2px rgba(0, 0, 0, 0.3));\n",
              "      fill: #FFFFFF;\n",
              "    }\n",
              "  </style>\n",
              "\n",
              "      <script>\n",
              "        const buttonEl =\n",
              "          document.querySelector('#df-761cbfb1-3855-413c-b712-24e5634ac2eb button.colab-df-convert');\n",
              "        buttonEl.style.display =\n",
              "          google.colab.kernel.accessAllowed ? 'block' : 'none';\n",
              "\n",
              "        async function convertToInteractive(key) {\n",
              "          const element = document.querySelector('#df-761cbfb1-3855-413c-b712-24e5634ac2eb');\n",
              "          const dataTable =\n",
              "            await google.colab.kernel.invokeFunction('convertToInteractive',\n",
              "                                                     [key], {});\n",
              "          if (!dataTable) return;\n",
              "\n",
              "          const docLinkHtml = 'Like what you see? Visit the ' +\n",
              "            '<a target=\"_blank\" href=https://colab.research.google.com/notebooks/data_table.ipynb>data table notebook</a>'\n",
              "            + ' to learn more about interactive tables.';\n",
              "          element.innerHTML = '';\n",
              "          dataTable['output_type'] = 'display_data';\n",
              "          await google.colab.output.renderOutput(dataTable, element);\n",
              "          const docLink = document.createElement('div');\n",
              "          docLink.innerHTML = docLinkHtml;\n",
              "          element.appendChild(docLink);\n",
              "        }\n",
              "      </script>\n",
              "    </div>\n",
              "  </div>\n",
              "  "
            ]
          },
          "metadata": {},
          "execution_count": 32
        }
      ]
    },
    {
      "cell_type": "code",
      "source": [
        "df.tail()"
      ],
      "metadata": {
        "colab": {
          "base_uri": "https://localhost:8080/",
          "height": 206
        },
        "id": "e_hCjffCvjlP",
        "outputId": "88e5c2b5-a70b-4f36-8695-195f000d2a9d"
      },
      "execution_count": 33,
      "outputs": [
        {
          "output_type": "execute_result",
          "data": {
            "text/plain": [
              "           date  age  gender  height  weight      steps  hear_rate  calories  \\\n",
              "360  2019-12-27   19       0     172    72.5  12.519481  78.625042  0.470516   \n",
              "361  2019-12-28   23       1     181    95.2  10.771429  78.531302  0.344533   \n",
              "362  2019-12-29   23       1     181    95.2  12.574603  78.453390  3.287625   \n",
              "363  2019-12-30   23       1     181    95.2  14.377778  78.154238  6.465719   \n",
              "364  2019-12-31   23       1     181    95.2  16.180952  77.855085  9.643813   \n",
              "\n",
              "     distance  steps_times_distance        activity  \n",
              "360  0.009457              0.118399  Running 7 METs  \n",
              "361  0.008327              0.089692           Lying  \n",
              "362  0.009872              0.124132           Lying  \n",
              "363  0.011416              0.164143           Lying  \n",
              "364  0.012961              0.209725           Lying  "
            ],
            "text/html": [
              "\n",
              "  <div id=\"df-34223430-74f5-4ed1-836f-324ea8183064\">\n",
              "    <div class=\"colab-df-container\">\n",
              "      <div>\n",
              "<style scoped>\n",
              "    .dataframe tbody tr th:only-of-type {\n",
              "        vertical-align: middle;\n",
              "    }\n",
              "\n",
              "    .dataframe tbody tr th {\n",
              "        vertical-align: top;\n",
              "    }\n",
              "\n",
              "    .dataframe thead th {\n",
              "        text-align: right;\n",
              "    }\n",
              "</style>\n",
              "<table border=\"1\" class=\"dataframe\">\n",
              "  <thead>\n",
              "    <tr style=\"text-align: right;\">\n",
              "      <th></th>\n",
              "      <th>date</th>\n",
              "      <th>age</th>\n",
              "      <th>gender</th>\n",
              "      <th>height</th>\n",
              "      <th>weight</th>\n",
              "      <th>steps</th>\n",
              "      <th>hear_rate</th>\n",
              "      <th>calories</th>\n",
              "      <th>distance</th>\n",
              "      <th>steps_times_distance</th>\n",
              "      <th>activity</th>\n",
              "    </tr>\n",
              "  </thead>\n",
              "  <tbody>\n",
              "    <tr>\n",
              "      <th>360</th>\n",
              "      <td>2019-12-27</td>\n",
              "      <td>19</td>\n",
              "      <td>0</td>\n",
              "      <td>172</td>\n",
              "      <td>72.5</td>\n",
              "      <td>12.519481</td>\n",
              "      <td>78.625042</td>\n",
              "      <td>0.470516</td>\n",
              "      <td>0.009457</td>\n",
              "      <td>0.118399</td>\n",
              "      <td>Running 7 METs</td>\n",
              "    </tr>\n",
              "    <tr>\n",
              "      <th>361</th>\n",
              "      <td>2019-12-28</td>\n",
              "      <td>23</td>\n",
              "      <td>1</td>\n",
              "      <td>181</td>\n",
              "      <td>95.2</td>\n",
              "      <td>10.771429</td>\n",
              "      <td>78.531302</td>\n",
              "      <td>0.344533</td>\n",
              "      <td>0.008327</td>\n",
              "      <td>0.089692</td>\n",
              "      <td>Lying</td>\n",
              "    </tr>\n",
              "    <tr>\n",
              "      <th>362</th>\n",
              "      <td>2019-12-29</td>\n",
              "      <td>23</td>\n",
              "      <td>1</td>\n",
              "      <td>181</td>\n",
              "      <td>95.2</td>\n",
              "      <td>12.574603</td>\n",
              "      <td>78.453390</td>\n",
              "      <td>3.287625</td>\n",
              "      <td>0.009872</td>\n",
              "      <td>0.124132</td>\n",
              "      <td>Lying</td>\n",
              "    </tr>\n",
              "    <tr>\n",
              "      <th>363</th>\n",
              "      <td>2019-12-30</td>\n",
              "      <td>23</td>\n",
              "      <td>1</td>\n",
              "      <td>181</td>\n",
              "      <td>95.2</td>\n",
              "      <td>14.377778</td>\n",
              "      <td>78.154238</td>\n",
              "      <td>6.465719</td>\n",
              "      <td>0.011416</td>\n",
              "      <td>0.164143</td>\n",
              "      <td>Lying</td>\n",
              "    </tr>\n",
              "    <tr>\n",
              "      <th>364</th>\n",
              "      <td>2019-12-31</td>\n",
              "      <td>23</td>\n",
              "      <td>1</td>\n",
              "      <td>181</td>\n",
              "      <td>95.2</td>\n",
              "      <td>16.180952</td>\n",
              "      <td>77.855085</td>\n",
              "      <td>9.643813</td>\n",
              "      <td>0.012961</td>\n",
              "      <td>0.209725</td>\n",
              "      <td>Lying</td>\n",
              "    </tr>\n",
              "  </tbody>\n",
              "</table>\n",
              "</div>\n",
              "      <button class=\"colab-df-convert\" onclick=\"convertToInteractive('df-34223430-74f5-4ed1-836f-324ea8183064')\"\n",
              "              title=\"Convert this dataframe to an interactive table.\"\n",
              "              style=\"display:none;\">\n",
              "        \n",
              "  <svg xmlns=\"http://www.w3.org/2000/svg\" height=\"24px\"viewBox=\"0 0 24 24\"\n",
              "       width=\"24px\">\n",
              "    <path d=\"M0 0h24v24H0V0z\" fill=\"none\"/>\n",
              "    <path d=\"M18.56 5.44l.94 2.06.94-2.06 2.06-.94-2.06-.94-.94-2.06-.94 2.06-2.06.94zm-11 1L8.5 8.5l.94-2.06 2.06-.94-2.06-.94L8.5 2.5l-.94 2.06-2.06.94zm10 10l.94 2.06.94-2.06 2.06-.94-2.06-.94-.94-2.06-.94 2.06-2.06.94z\"/><path d=\"M17.41 7.96l-1.37-1.37c-.4-.4-.92-.59-1.43-.59-.52 0-1.04.2-1.43.59L10.3 9.45l-7.72 7.72c-.78.78-.78 2.05 0 2.83L4 21.41c.39.39.9.59 1.41.59.51 0 1.02-.2 1.41-.59l7.78-7.78 2.81-2.81c.8-.78.8-2.07 0-2.86zM5.41 20L4 18.59l7.72-7.72 1.47 1.35L5.41 20z\"/>\n",
              "  </svg>\n",
              "      </button>\n",
              "      \n",
              "  <style>\n",
              "    .colab-df-container {\n",
              "      display:flex;\n",
              "      flex-wrap:wrap;\n",
              "      gap: 12px;\n",
              "    }\n",
              "\n",
              "    .colab-df-convert {\n",
              "      background-color: #E8F0FE;\n",
              "      border: none;\n",
              "      border-radius: 50%;\n",
              "      cursor: pointer;\n",
              "      display: none;\n",
              "      fill: #1967D2;\n",
              "      height: 32px;\n",
              "      padding: 0 0 0 0;\n",
              "      width: 32px;\n",
              "    }\n",
              "\n",
              "    .colab-df-convert:hover {\n",
              "      background-color: #E2EBFA;\n",
              "      box-shadow: 0px 1px 2px rgba(60, 64, 67, 0.3), 0px 1px 3px 1px rgba(60, 64, 67, 0.15);\n",
              "      fill: #174EA6;\n",
              "    }\n",
              "\n",
              "    [theme=dark] .colab-df-convert {\n",
              "      background-color: #3B4455;\n",
              "      fill: #D2E3FC;\n",
              "    }\n",
              "\n",
              "    [theme=dark] .colab-df-convert:hover {\n",
              "      background-color: #434B5C;\n",
              "      box-shadow: 0px 1px 3px 1px rgba(0, 0, 0, 0.15);\n",
              "      filter: drop-shadow(0px 1px 2px rgba(0, 0, 0, 0.3));\n",
              "      fill: #FFFFFF;\n",
              "    }\n",
              "  </style>\n",
              "\n",
              "      <script>\n",
              "        const buttonEl =\n",
              "          document.querySelector('#df-34223430-74f5-4ed1-836f-324ea8183064 button.colab-df-convert');\n",
              "        buttonEl.style.display =\n",
              "          google.colab.kernel.accessAllowed ? 'block' : 'none';\n",
              "\n",
              "        async function convertToInteractive(key) {\n",
              "          const element = document.querySelector('#df-34223430-74f5-4ed1-836f-324ea8183064');\n",
              "          const dataTable =\n",
              "            await google.colab.kernel.invokeFunction('convertToInteractive',\n",
              "                                                     [key], {});\n",
              "          if (!dataTable) return;\n",
              "\n",
              "          const docLinkHtml = 'Like what you see? Visit the ' +\n",
              "            '<a target=\"_blank\" href=https://colab.research.google.com/notebooks/data_table.ipynb>data table notebook</a>'\n",
              "            + ' to learn more about interactive tables.';\n",
              "          element.innerHTML = '';\n",
              "          dataTable['output_type'] = 'display_data';\n",
              "          await google.colab.output.renderOutput(dataTable, element);\n",
              "          const docLink = document.createElement('div');\n",
              "          docLink.innerHTML = docLinkHtml;\n",
              "          element.appendChild(docLink);\n",
              "        }\n",
              "      </script>\n",
              "    </div>\n",
              "  </div>\n",
              "  "
            ]
          },
          "metadata": {},
          "execution_count": 33
        }
      ]
    },
    {
      "cell_type": "code",
      "source": [
        "df.shape"
      ],
      "metadata": {
        "colab": {
          "base_uri": "https://localhost:8080/"
        },
        "id": "6Qm9jpWqvtBU",
        "outputId": "9af6cf3f-575c-4359-f35d-0f4506141db7"
      },
      "execution_count": 34,
      "outputs": [
        {
          "output_type": "execute_result",
          "data": {
            "text/plain": [
              "(365, 11)"
            ]
          },
          "metadata": {},
          "execution_count": 34
        }
      ]
    },
    {
      "cell_type": "code",
      "source": [
        "df.info()"
      ],
      "metadata": {
        "colab": {
          "base_uri": "https://localhost:8080/"
        },
        "id": "Thp-M5CDvtLA",
        "outputId": "0414a4f9-1f8f-4a6c-a236-ddfd9f387371"
      },
      "execution_count": 35,
      "outputs": [
        {
          "output_type": "stream",
          "name": "stdout",
          "text": [
            "<class 'pandas.core.frame.DataFrame'>\n",
            "RangeIndex: 365 entries, 0 to 364\n",
            "Data columns (total 11 columns):\n",
            " #   Column                Non-Null Count  Dtype  \n",
            "---  ------                --------------  -----  \n",
            " 0   date                  365 non-null    object \n",
            " 1   age                   365 non-null    int64  \n",
            " 2   gender                365 non-null    int64  \n",
            " 3   height                365 non-null    int64  \n",
            " 4   weight                365 non-null    float64\n",
            " 5   steps                 365 non-null    float64\n",
            " 6   hear_rate             365 non-null    float64\n",
            " 7   calories              365 non-null    float64\n",
            " 8   distance              365 non-null    float64\n",
            " 9   steps_times_distance  365 non-null    float64\n",
            " 10  activity              365 non-null    object \n",
            "dtypes: float64(6), int64(3), object(2)\n",
            "memory usage: 31.5+ KB\n"
          ]
        }
      ]
    },
    {
      "cell_type": "code",
      "source": [],
      "metadata": {
        "id": "wD0RCU_ZwVFZ"
      },
      "execution_count": 35,
      "outputs": []
    },
    {
      "cell_type": "code",
      "execution_count": 36,
      "metadata": {
        "colab": {
          "base_uri": "https://localhost:8080/"
        },
        "id": "oId33hmJ35f5",
        "outputId": "3f75322f-fb5c-419b-d299-0f08804e99b4"
      },
      "outputs": [
        {
          "output_type": "execute_result",
          "data": {
            "text/plain": [
              "date                    0\n",
              "age                     0\n",
              "gender                  0\n",
              "height                  0\n",
              "weight                  0\n",
              "steps                   0\n",
              "hear_rate               0\n",
              "calories                0\n",
              "distance                0\n",
              "steps_times_distance    0\n",
              "activity                0\n",
              "dtype: int64"
            ]
          },
          "metadata": {},
          "execution_count": 36
        }
      ],
      "source": [
        "df.isnull().sum()"
      ]
    },
    {
      "cell_type": "markdown",
      "source": [
        "**Retrieving Unique Classes**"
      ],
      "metadata": {
        "id": "timrH9QrYX2r"
      }
    },
    {
      "cell_type": "code",
      "execution_count": 37,
      "metadata": {
        "colab": {
          "base_uri": "https://localhost:8080/"
        },
        "id": "R82tWn3NHcxX",
        "outputId": "8db663f9-3b61-4899-de42-443767037e70"
      },
      "outputs": [
        {
          "output_type": "execute_result",
          "data": {
            "text/plain": [
              "array(['Lying', 'Sitting', 'Self Pace walk', 'Running 3 METs',\n",
              "       'Running 5 METs', 'Running 7 METs'], dtype=object)"
            ]
          },
          "metadata": {},
          "execution_count": 37
        }
      ],
      "source": [
        "df['activity'].unique()"
      ]
    },
    {
      "cell_type": "markdown",
      "source": [
        "**Feature Engineering for Date**"
      ],
      "metadata": {
        "id": "0KK6V6spYLKO"
      }
    },
    {
      "cell_type": "code",
      "execution_count": 38,
      "metadata": {
        "id": "_zEWDoV4_HH4"
      },
      "outputs": [],
      "source": [
        "df['date'] = pd.to_datetime(df['date'])\n",
        "df['year'] = df['date'].dt.year\n",
        "df['month'] = df['date'].dt.month\n",
        "df['day'] = df['date'].dt.day\n",
        "\n",
        "\n",
        "df['day_of_week'] = df['date'].dt.dayofweek"
      ]
    },
    {
      "cell_type": "markdown",
      "source": [
        "**Data Normalization**"
      ],
      "metadata": {
        "id": "CwoNtVcXXx8p"
      }
    },
    {
      "cell_type": "code",
      "execution_count": 39,
      "metadata": {
        "id": "7M9MAJRaPM-O"
      },
      "outputs": [],
      "source": [
        "import numpy as np\n",
        "from sklearn.preprocessing import MinMaxScaler\n",
        "num_cols = df.select_dtypes(include=np.number).columns\n",
        "scaler = MinMaxScaler()\n",
        "df[num_cols] = scaler.fit_transform(df[num_cols])\n",
        "df.to_csv('normalized_dataset.csv', index=False)"
      ]
    },
    {
      "cell_type": "markdown",
      "source": [
        "**Replacing categorical classes to numerical**"
      ],
      "metadata": {
        "id": "xBXEu9wOYpMU"
      }
    },
    {
      "cell_type": "code",
      "execution_count": 40,
      "metadata": {
        "id": "q90CNU4gSal0"
      },
      "outputs": [],
      "source": [
        "df['activity'].replace(['Lying', 'Sitting', 'Self Pace walk', \n",
        "                        'Running 3 METs','Running 5 METs', \n",
        "                        'Running 7 METs'],[1,2,3,4,5,6], inplace=True)\n"
      ]
    },
    {
      "cell_type": "markdown",
      "source": [
        "**Data Split**"
      ],
      "metadata": {
        "id": "X6UB0qF3Xb1e"
      }
    },
    {
      "cell_type": "code",
      "execution_count": 41,
      "metadata": {
        "id": "NsGUAB3h4Urm"
      },
      "outputs": [],
      "source": [
        "from sklearn.model_selection import train_test_split\n",
        "x=df[['year', 'month','day', 'day_of_week','age', 'gender', 'height', 'weight', 'steps', 'hear_rate',\n",
        "       'calories', 'distance', 'steps_times_distance']]   \n",
        "y=df['activity'] \n"
      ]
    },
    {
      "cell_type": "code",
      "execution_count": 42,
      "metadata": {
        "id": "FavZ1HCd5tg2"
      },
      "outputs": [],
      "source": [
        "from sklearn.model_selection import train_test_split\n",
        "x_train ,x_test,y_train,y_test = train_test_split (x,y,test_size = 0.3)"
      ]
    },
    {
      "cell_type": "markdown",
      "source": [
        "**AdaBoost Classifier**"
      ],
      "metadata": {
        "id": "1fujPRhjXjDI"
      }
    },
    {
      "cell_type": "code",
      "execution_count": 43,
      "metadata": {
        "colab": {
          "base_uri": "https://localhost:8080/",
          "height": 644
        },
        "id": "K7TeSlGiUPTz",
        "outputId": "cf7179b7-2379-43e6-e11e-a7420e7f2ae0"
      },
      "outputs": [
        {
          "output_type": "stream",
          "name": "stderr",
          "text": [
            "/usr/local/lib/python3.9/dist-packages/sklearn/ensemble/_base.py:166: FutureWarning: `base_estimator` was renamed to `estimator` in version 1.2 and will be removed in 1.4.\n",
            "  warnings.warn(\n"
          ]
        },
        {
          "output_type": "stream",
          "name": "stdout",
          "text": [
            "\n",
            " \n",
            "\n",
            "Accuracy Obtained using Ada Boost: 0.8909090909090909\n",
            "\n",
            " \n",
            "\n"
          ]
        },
        {
          "output_type": "display_data",
          "data": {
            "text/plain": [
              "<Figure size 450x450 with 1 Axes>"
            ],
            "image/png": "[encoded data removed]"
          },
          "metadata": {}
        }
      ],
      "source": [
        "from sklearn.ensemble import AdaBoostClassifier\n",
        "from sklearn.metrics import accuracy_score, precision_score, recall_score, f1_score, confusion_matrix\n",
        "from sklearn.tree import DecisionTreeClassifier\n",
        "import matplotlib.pyplot as plt\n",
        "base_estimator = DecisionTreeClassifier(max_depth=8)\n",
        "adaboost = AdaBoostClassifier(base_estimator=base_estimator, n_estimators=50, random_state=42)\n",
        "adaboost.fit(x_train, y_train)\n",
        "pred1 = adaboost.predict(x_test)\n",
        "accuracy = accuracy_score(y_test, pred1)\n",
        "print('\\n \\n')\n",
        "print('Accuracy Obtained using Ada Boost:', accuracy)\n",
        "print('\\n \\n')\n",
        "\n",
        "conf_matrix = confusion_matrix(y_true=y_test, y_pred=pred1)\n",
        "fig, ax = plt.subplots(figsize=(4.5, 4.5))\n",
        "ax.matshow(conf_matrix, cmap=plt.cm.Blues, alpha=0.3)\n",
        "for i in range(conf_matrix.shape[0]):\n",
        "    for j in range(conf_matrix.shape[1]):\n",
        "        ax.text(x=j, y=i,s=conf_matrix[i, j], va='center', ha='center', size='xx-large')\n",
        " \n",
        "plt.xlabel('Predictions', fontsize=18)\n",
        "plt.ylabel('Actuals', fontsize=18)\n",
        "plt.title('Confusion Matrix', fontsize=18)\n",
        "plt.show()"
      ]
    },
    {
      "cell_type": "markdown",
      "source": [
        "**Random Forest Classifier**"
      ],
      "metadata": {
        "id": "2MQjPpvbXNpM"
      }
    },
    {
      "cell_type": "code",
      "execution_count": 44,
      "metadata": {
        "colab": {
          "base_uri": "https://localhost:8080/",
          "height": 485
        },
        "id": "jdB2VO947A3A",
        "outputId": "497ce771-87e3-4b08-d18e-1c07cd18ed77"
      },
      "outputs": [
        {
          "output_type": "stream",
          "name": "stdout",
          "text": [
            "Accuracy: 0.8454545454545455\n"
          ]
        },
        {
          "output_type": "display_data",
          "data": {
            "text/plain": [
              "<Figure size 450x450 with 1 Axes>"
            ],
            "image/png": "[encoded data removed]"
          },
          "metadata": {}
        }
      ],
      "source": [
        "from sklearn.ensemble import RandomForestClassifier\n",
        "rf_model = RandomForestClassifier(n_estimators=100, random_state=42)\n",
        "rf_model.fit(x_train, y_train)\n",
        "pred2 = rf_model.predict(x_test)\n",
        "accuracy = rf_model.score(x_test, y_test)\n",
        "print(f\"Accuracy: {accuracy}\")\n",
        "conf_matrix = confusion_matrix(y_true=y_test, y_pred=pred2)\n",
        "fig, ax = plt.subplots(figsize=(4.5, 4.5))\n",
        "ax.matshow(conf_matrix, cmap=plt.cm.Blues, alpha=0.3)\n",
        "for i in range(conf_matrix.shape[0]):\n",
        "    for j in range(conf_matrix.shape[1]):\n",
        "        ax.text(x=j, y=i,s=conf_matrix[i, j], va='center', ha='center', size='xx-large')\n",
        " \n",
        "plt.xlabel('Predictions', fontsize=18)\n",
        "plt.ylabel('Actuals', fontsize=18)\n",
        "plt.title('Confusion Matrix', fontsize=18)\n",
        "plt.show()"
      ]
    },
    {
      "cell_type": "markdown",
      "source": [
        "**Gradient Boosting Classifier**"
      ],
      "metadata": {
        "id": "K4i6C8BAY_Yv"
      }
    },
    {
      "cell_type": "code",
      "execution_count": 45,
      "metadata": {
        "colab": {
          "base_uri": "https://localhost:8080/",
          "height": 485
        },
        "id": "5xNkxsHz8mK9",
        "outputId": "bfbfbed3-7aa2-4486-e316-a9d3d70e3767"
      },
      "outputs": [
        {
          "output_type": "stream",
          "name": "stdout",
          "text": [
            "Accuracy: 0.7909090909090909\n"
          ]
        },
        {
          "output_type": "display_data",
          "data": {
            "text/plain": [
              "<Figure size 450x450 with 1 Axes>"
            ],
            "image/png": "[encoded data removed]"
          },
          "metadata": {}
        }
      ],
      "source": [
        "from sklearn.ensemble import GradientBoostingClassifier\n",
        "import pandas as pd\n",
        "gb_model = GradientBoostingClassifier(n_estimators=50, random_state=42)\n",
        "gb_model.fit(x_train, y_train)\n",
        "pred3 = gb_model.predict(x_test)\n",
        "accuracy = gb_model.score(x_test, y_test)\n",
        "print(f\"Accuracy: {accuracy}\")\n",
        "\n",
        "\n",
        "conf_matrix = confusion_matrix(y_true=y_test, y_pred=pred3)\n",
        "fig, ax = plt.subplots(figsize=(4.5, 4.5))\n",
        "ax.matshow(conf_matrix, cmap=plt.cm.Blues, alpha=0.3)\n",
        "for i in range(conf_matrix.shape[0]):\n",
        "    for j in range(conf_matrix.shape[1]):\n",
        "        ax.text(x=j, y=i,s=conf_matrix[i, j], va='center', ha='center', size='xx-large')\n",
        " \n",
        "plt.xlabel('Predictions', fontsize=18)\n",
        "plt.ylabel('Actuals', fontsize=18)\n",
        "plt.title('Confusion Matrix', fontsize=18)\n",
        "plt.show()"
      ]
    },
    {
      "cell_type": "markdown",
      "source": [
        "**Bagging Classifier**"
      ],
      "metadata": {
        "id": "qDDBc3M9ZHrd"
      }
    },
    {
      "cell_type": "code",
      "execution_count": 46,
      "metadata": {
        "colab": {
          "base_uri": "https://localhost:8080/",
          "height": 540
        },
        "id": "uR6cAljiAnCA",
        "outputId": "4b1a781e-dc49-40eb-d8d3-234f7b9257f2"
      },
      "outputs": [
        {
          "output_type": "stream",
          "name": "stderr",
          "text": [
            "/usr/local/lib/python3.9/dist-packages/sklearn/ensemble/_base.py:166: FutureWarning: `base_estimator` was renamed to `estimator` in version 1.2 and will be removed in 1.4.\n",
            "  warnings.warn(\n"
          ]
        },
        {
          "output_type": "stream",
          "name": "stdout",
          "text": [
            "Accuracy: 0.8090909090909091\n"
          ]
        },
        {
          "output_type": "display_data",
          "data": {
            "text/plain": [
              "<Figure size 450x450 with 1 Axes>"
            ],
            "image/png": "[encoded data removed]"
          },
          "metadata": {}
        }
      ],
      "source": [
        "\n",
        "from sklearn.ensemble import BaggingClassifier\n",
        "from sklearn.tree import DecisionTreeClassifier\n",
        "tree = DecisionTreeClassifier(random_state=42,max_depth=10)\n",
        "bagging = BaggingClassifier(base_estimator=tree, n_estimators=50, random_state=42)\n",
        "bagging.fit(x_train, y_train)\n",
        "pred4 = bagging.predict(x_test)\n",
        "accuracy = accuracy_score(y_test, pred4)\n",
        "print(f\"Accuracy: {accuracy}\")\n",
        "conf_matrix = confusion_matrix(y_true=y_test, y_pred=pred4)\n",
        "fig, ax = plt.subplots(figsize=(4.5, 4.5))\n",
        "ax.matshow(conf_matrix, cmap=plt.cm.Blues, alpha=0.3)\n",
        "for i in range(conf_matrix.shape[0]):\n",
        "    for j in range(conf_matrix.shape[1]):\n",
        "        ax.text(x=j, y=i,s=conf_matrix[i, j], va='center', ha='center', size='xx-large')\n",
        " \n",
        "plt.xlabel('Predictions', fontsize=18)\n",
        "plt.ylabel('Actuals', fontsize=18)\n",
        "plt.title('Confusion Matrix', fontsize=18)\n",
        "plt.show()"
      ]
    },
    {
      "cell_type": "markdown",
      "source": [
        "**KNN Classifier**"
      ],
      "metadata": {
        "id": "IPcHzvnjcWpD"
      }
    },
    {
      "cell_type": "code",
      "execution_count": 54,
      "metadata": {
        "colab": {
          "base_uri": "https://localhost:8080/",
          "height": 485
        },
        "id": "l_eLNhh2CIYq",
        "outputId": "dde79c39-c83f-46a5-8bb2-7b158355768c"
      },
      "outputs": [
        {
          "output_type": "stream",
          "name": "stdout",
          "text": [
            "Accuracy: 0.6363636363636364\n"
          ]
        },
        {
          "output_type": "display_data",
          "data": {
            "text/plain": [
              "<Figure size 450x450 with 1 Axes>"
            ],
            "image/png": "[encoded data removed]"
          },
          "metadata": {}
        }
      ],
      "source": [
        "from sklearn.neighbors import KNeighborsClassifier\n",
        "knn = KNeighborsClassifier(n_neighbors=1)\n",
        "knn.fit(x_train, y_train)\n",
        "pred5 = knn.predict(x_test)\n",
        "accuracy = accuracy_score(y_test, pred5)\n",
        "print(f\"Accuracy: {accuracy}\")\n",
        "conf_matrix = confusion_matrix(y_true=y_test, y_pred=pred5)\n",
        "fig, ax = plt.subplots(figsize=(4.5, 4.5))\n",
        "ax.matshow(conf_matrix, cmap=plt.cm.Blues, alpha=0.3)\n",
        "for i in range(conf_matrix.shape[0]):\n",
        "    for j in range(conf_matrix.shape[1]):\n",
        "        ax.text(x=j, y=i,s=conf_matrix[i, j], va='center', ha='center', size='xx-large')\n",
        "plt.xlabel('Predictions', fontsize=18)\n",
        "plt.ylabel('Actuals', fontsize=18)\n",
        "plt.title('Confusion Matrix', fontsize=18)\n",
        "plt.show()"
      ]
    },
    {
      "cell_type": "code",
      "execution_count": 55,
      "metadata": {
        "id": "gus4DQO-f586",
        "colab": {
          "base_uri": "https://localhost:8080/",
          "height": 206
        },
        "outputId": "9e84718f-5d22-4952-81a3-0dc1e9c2dd0b"
      },
      "outputs": [
        {
          "output_type": "execute_result",
          "data": {
            "text/plain": [
              "                          Model  Accuracy\n",
              "0           AdaBoost Classifier     0.890\n",
              "1      Random Forest Classifier     0.854\n",
              "2  Gradient Boosting Classifier     0.790\n",
              "3            Bagging Classifier     0.809\n",
              "4         KNeighbors Classifier     0.636"
            ],
            "text/html": [
              "\n",
              "  <div id=\"df-6e567d10-9a27-4e65-b982-a88c25947fc2\">\n",
              "    <div class=\"colab-df-container\">\n",
              "      <div>\n",
              "<style scoped>\n",
              "    .dataframe tbody tr th:only-of-type {\n",
              "        vertical-align: middle;\n",
              "    }\n",
              "\n",
              "    .dataframe tbody tr th {\n",
              "        vertical-align: top;\n",
              "    }\n",
              "\n",
              "    .dataframe thead th {\n",
              "        text-align: right;\n",
              "    }\n",
              "</style>\n",
              "<table border=\"1\" class=\"dataframe\">\n",
              "  <thead>\n",
              "    <tr style=\"text-align: right;\">\n",
              "      <th></th>\n",
              "      <th>Model</th>\n",
              "      <th>Accuracy</th>\n",
              "    </tr>\n",
              "  </thead>\n",
              "  <tbody>\n",
              "    <tr>\n",
              "      <th>0</th>\n",
              "      <td>AdaBoost Classifier</td>\n",
              "      <td>0.890</td>\n",
              "    </tr>\n",
              "    <tr>\n",
              "      <th>1</th>\n",
              "      <td>Random Forest Classifier</td>\n",
              "      <td>0.854</td>\n",
              "    </tr>\n",
              "    <tr>\n",
              "      <th>2</th>\n",
              "      <td>Gradient Boosting Classifier</td>\n",
              "      <td>0.790</td>\n",
              "    </tr>\n",
              "    <tr>\n",
              "      <th>3</th>\n",
              "      <td>Bagging Classifier</td>\n",
              "      <td>0.809</td>\n",
              "    </tr>\n",
              "    <tr>\n",
              "      <th>4</th>\n",
              "      <td>KNeighbors Classifier</td>\n",
              "      <td>0.636</td>\n",
              "    </tr>\n",
              "  </tbody>\n",
              "</table>\n",
              "</div>\n",
              "      <button class=\"colab-df-convert\" onclick=\"convertToInteractive('df-6e567d10-9a27-4e65-b982-a88c25947fc2')\"\n",
              "              title=\"Convert this dataframe to an interactive table.\"\n",
              "              style=\"display:none;\">\n",
              "        \n",
              "  <svg xmlns=\"http://www.w3.org/2000/svg\" height=\"24px\"viewBox=\"0 0 24 24\"\n",
              "       width=\"24px\">\n",
              "    <path d=\"M0 0h24v24H0V0z\" fill=\"none\"/>\n",
              "    <path d=\"M18.56 5.44l.94 2.06.94-2.06 2.06-.94-2.06-.94-.94-2.06-.94 2.06-2.06.94zm-11 1L8.5 8.5l.94-2.06 2.06-.94-2.06-.94L8.5 2.5l-.94 2.06-2.06.94zm10 10l.94 2.06.94-2.06 2.06-.94-2.06-.94-.94-2.06-.94 2.06-2.06.94z\"/><path d=\"M17.41 7.96l-1.37-1.37c-.4-.4-.92-.59-1.43-.59-.52 0-1.04.2-1.43.59L10.3 9.45l-7.72 7.72c-.78.78-.78 2.05 0 2.83L4 21.41c.39.39.9.59 1.41.59.51 0 1.02-.2 1.41-.59l7.78-7.78 2.81-2.81c.8-.78.8-2.07 0-2.86zM5.41 20L4 18.59l7.72-7.72 1.47 1.35L5.41 20z\"/>\n",
              "  </svg>\n",
              "      </button>\n",
              "      \n",
              "  <style>\n",
              "    .colab-df-container {\n",
              "      display:flex;\n",
              "      flex-wrap:wrap;\n",
              "      gap: 12px;\n",
              "    }\n",
              "\n",
              "    .colab-df-convert {\n",
              "      background-color: #E8F0FE;\n",
              "      border: none;\n",
              "      border-radius: 50%;\n",
              "      cursor: pointer;\n",
              "      display: none;\n",
              "      fill: #1967D2;\n",
              "      height: 32px;\n",
              "      padding: 0 0 0 0;\n",
              "      width: 32px;\n",
              "    }\n",
              "\n",
              "    .colab-df-convert:hover {\n",
              "      background-color: #E2EBFA;\n",
              "      box-shadow: 0px 1px 2px rgba(60, 64, 67, 0.3), 0px 1px 3px 1px rgba(60, 64, 67, 0.15);\n",
              "      fill: #174EA6;\n",
              "    }\n",
              "\n",
              "    [theme=dark] .colab-df-convert {\n",
              "      background-color: #3B4455;\n",
              "      fill: #D2E3FC;\n",
              "    }\n",
              "\n",
              "    [theme=dark] .colab-df-convert:hover {\n",
              "      background-color: #434B5C;\n",
              "      box-shadow: 0px 1px 3px 1px rgba(0, 0, 0, 0.15);\n",
              "      filter: drop-shadow(0px 1px 2px rgba(0, 0, 0, 0.3));\n",
              "      fill: #FFFFFF;\n",
              "    }\n",
              "  </style>\n",
              "\n",
              "      <script>\n",
              "        const buttonEl =\n",
              "          document.querySelector('#df-6e567d10-9a27-4e65-b982-a88c25947fc2 button.colab-df-convert');\n",
              "        buttonEl.style.display =\n",
              "          google.colab.kernel.accessAllowed ? 'block' : 'none';\n",
              "\n",
              "        async function convertToInteractive(key) {\n",
              "          const element = document.querySelector('#df-6e567d10-9a27-4e65-b982-a88c25947fc2');\n",
              "          const dataTable =\n",
              "            await google.colab.kernel.invokeFunction('convertToInteractive',\n",
              "                                                     [key], {});\n",
              "          if (!dataTable) return;\n",
              "\n",
              "          const docLinkHtml = 'Like what you see? Visit the ' +\n",
              "            '<a target=\"_blank\" href=https://colab.research.google.com/notebooks/data_table.ipynb>data table notebook</a>'\n",
              "            + ' to learn more about interactive tables.';\n",
              "          element.innerHTML = '';\n",
              "          dataTable['output_type'] = 'display_data';\n",
              "          await google.colab.output.renderOutput(dataTable, element);\n",
              "          const docLink = document.createElement('div');\n",
              "          docLink.innerHTML = docLinkHtml;\n",
              "          element.appendChild(docLink);\n",
              "        }\n",
              "      </script>\n",
              "    </div>\n",
              "  </div>\n",
              "  "
            ]
          },
          "metadata": {},
          "execution_count": 55
        }
      ],
      "source": [
        "import pandas as pd\n",
        "accuracy_values = [0.890, 0.854, 0.790, 0.809, 0.636]\n",
        "data = {'Model': ['AdaBoost Classifier', 'Random Forest Classifier', 'Gradient Boosting Classifier', 'Bagging Classifier', 'KNeighbors Classifier'],\n",
        "        'Accuracy': accuracy_values}\n",
        "df = pd.DataFrame(data)\n",
        "\n",
        "df\n"
      ]
    }
  ],
  "metadata": {
    "colab": {
      "provenance": []
    },
    "kernelspec": {
      "display_name": "Python 3",
      "name": "python3"
    },
    "language_info": {
      "name": "python"
    }
  },
  "nbformat": 4,
  "nbformat_minor": 0
}